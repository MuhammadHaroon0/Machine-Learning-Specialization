{
 "cells": [
  {
   "cell_type": "code",
   "execution_count": 1,
   "id": "e00d4dd8",
   "metadata": {},
   "outputs": [],
   "source": [
    "import numpy as np"
   ]
  },
  {
   "cell_type": "code",
   "execution_count": 2,
   "id": "653cc2d2",
   "metadata": {},
   "outputs": [
    {
     "data": {
      "text/plain": [
       "array([1, 2, 3, 4])"
      ]
     },
     "execution_count": 2,
     "metadata": {},
     "output_type": "execute_result"
    }
   ],
   "source": [
    "arr=np.array([1,2,3,4])\n",
    "arr"
   ]
  },
  {
   "cell_type": "code",
   "execution_count": 4,
   "id": "94e20858",
   "metadata": {},
   "outputs": [
    {
     "data": {
      "text/plain": [
       "array([5., 5., 5., 5., 5., 5., 5., 5., 5., 5.])"
      ]
     },
     "execution_count": 4,
     "metadata": {},
     "output_type": "execute_result"
    }
   ],
   "source": [
    "arr=np.ones(10)+4\n",
    "arr"
   ]
  },
  {
   "cell_type": "code",
   "execution_count": 6,
   "id": "45c54b3b",
   "metadata": {},
   "outputs": [
    {
     "data": {
      "text/plain": [
       "array([10, 11, 12, 13, 14, 15, 16, 17, 18, 19, 20, 21, 22, 23, 24, 25, 26,\n",
       "       27, 28, 29, 30, 31, 32, 33, 34, 35, 36, 37, 38, 39, 40, 41, 42, 43,\n",
       "       44, 45, 46, 47, 48, 49, 50])"
      ]
     },
     "execution_count": 6,
     "metadata": {},
     "output_type": "execute_result"
    }
   ],
   "source": [
    "np.arange(10,51)"
   ]
  },
  {
   "cell_type": "code",
   "execution_count": 7,
   "id": "38343012",
   "metadata": {},
   "outputs": [
    {
     "data": {
      "text/plain": [
       "array([10, 12, 14, 16, 18, 20, 22, 24, 26, 28, 30, 32, 34, 36, 38, 40, 42,\n",
       "       44, 46, 48, 50])"
      ]
     },
     "execution_count": 7,
     "metadata": {},
     "output_type": "execute_result"
    }
   ],
   "source": [
    "np.arange(10,51,2)"
   ]
  },
  {
   "cell_type": "code",
   "execution_count": 10,
   "id": "6ff16a9d",
   "metadata": {},
   "outputs": [
    {
     "data": {
      "text/plain": [
       "array([[0, 1, 2],\n",
       "       [3, 4, 5],\n",
       "       [6, 7, 8]])"
      ]
     },
     "execution_count": 10,
     "metadata": {},
     "output_type": "execute_result"
    }
   ],
   "source": [
    "np.arange(0,9).reshape(3,3)"
   ]
  },
  {
   "cell_type": "code",
   "execution_count": 12,
   "id": "de392f62",
   "metadata": {},
   "outputs": [
    {
     "data": {
      "text/plain": [
       "array([[1., 0., 0.],\n",
       "       [0., 1., 0.],\n",
       "       [0., 0., 1.]])"
      ]
     },
     "execution_count": 12,
     "metadata": {},
     "output_type": "execute_result"
    }
   ],
   "source": [
    "np.eye(3)"
   ]
  },
  {
   "cell_type": "code",
   "execution_count": 13,
   "id": "7c14c68a",
   "metadata": {},
   "outputs": [
    {
     "data": {
      "text/plain": [
       "<module 'numpy' from 'C:\\\\Users\\\\HP\\\\anaconda3\\\\Lib\\\\site-packages\\\\numpy\\\\__init__.py'>"
      ]
     },
     "execution_count": 13,
     "metadata": {},
     "output_type": "execute_result"
    }
   ],
   "source": [
    "np\n"
   ]
  },
  {
   "cell_type": "code",
   "execution_count": 14,
   "id": "67202867",
   "metadata": {},
   "outputs": [
    {
     "data": {
      "text/plain": [
       "array([0.01636834, 0.17378556, 0.67771361, 0.21321363, 0.0505121 ,\n",
       "       0.15617227, 0.60713836, 0.65864151, 0.70057785, 0.22542698,\n",
       "       0.40011596, 0.37239303, 0.03384612, 0.77109258, 0.46613935,\n",
       "       0.78880207, 0.31203382, 0.41739018, 0.91338008, 0.61285163,\n",
       "       0.76793645, 0.79499395, 0.75166827, 0.53070925, 0.6885991 ])"
      ]
     },
     "execution_count": 14,
     "metadata": {},
     "output_type": "execute_result"
    }
   ],
   "source": [
    "np.random.rand(25)"
   ]
  },
  {
   "cell_type": "code",
   "execution_count": 21,
   "id": "3b73c708",
   "metadata": {},
   "outputs": [
    {
     "data": {
      "text/plain": [
       "array([[0.        , 0.01010101, 0.02020202, 0.03030303, 0.04040404,\n",
       "        0.05050505, 0.06060606, 0.07070707, 0.08080808, 0.09090909],\n",
       "       [0.1010101 , 0.11111111, 0.12121212, 0.13131313, 0.14141414,\n",
       "        0.15151515, 0.16161616, 0.17171717, 0.18181818, 0.19191919],\n",
       "       [0.2020202 , 0.21212121, 0.22222222, 0.23232323, 0.24242424,\n",
       "        0.25252525, 0.26262626, 0.27272727, 0.28282828, 0.29292929],\n",
       "       [0.3030303 , 0.31313131, 0.32323232, 0.33333333, 0.34343434,\n",
       "        0.35353535, 0.36363636, 0.37373737, 0.38383838, 0.39393939],\n",
       "       [0.4040404 , 0.41414141, 0.42424242, 0.43434343, 0.44444444,\n",
       "        0.45454545, 0.46464646, 0.47474747, 0.48484848, 0.49494949],\n",
       "       [0.50505051, 0.51515152, 0.52525253, 0.53535354, 0.54545455,\n",
       "        0.55555556, 0.56565657, 0.57575758, 0.58585859, 0.5959596 ],\n",
       "       [0.60606061, 0.61616162, 0.62626263, 0.63636364, 0.64646465,\n",
       "        0.65656566, 0.66666667, 0.67676768, 0.68686869, 0.6969697 ],\n",
       "       [0.70707071, 0.71717172, 0.72727273, 0.73737374, 0.74747475,\n",
       "        0.75757576, 0.76767677, 0.77777778, 0.78787879, 0.7979798 ],\n",
       "       [0.80808081, 0.81818182, 0.82828283, 0.83838384, 0.84848485,\n",
       "        0.85858586, 0.86868687, 0.87878788, 0.88888889, 0.8989899 ],\n",
       "       [0.90909091, 0.91919192, 0.92929293, 0.93939394, 0.94949495,\n",
       "        0.95959596, 0.96969697, 0.97979798, 0.98989899, 1.        ]])"
      ]
     },
     "execution_count": 21,
     "metadata": {},
     "output_type": "execute_result"
    }
   ],
   "source": [
    "np.linspace(0,1,100).reshape(10,10)\n"
   ]
  },
  {
   "cell_type": "code",
   "execution_count": 22,
   "id": "8bc48330",
   "metadata": {},
   "outputs": [],
   "source": [
    "arr=np.arange(1,26).reshape(5,5)"
   ]
  },
  {
   "cell_type": "code",
   "execution_count": 23,
   "id": "c10c74f1",
   "metadata": {},
   "outputs": [
    {
     "data": {
      "text/plain": [
       "array([[ 1,  2,  3,  4,  5],\n",
       "       [ 6,  7,  8,  9, 10],\n",
       "       [11, 12, 13, 14, 15],\n",
       "       [16, 17, 18, 19, 20],\n",
       "       [21, 22, 23, 24, 25]])"
      ]
     },
     "execution_count": 23,
     "metadata": {},
     "output_type": "execute_result"
    }
   ],
   "source": [
    "arr\n"
   ]
  },
  {
   "cell_type": "code",
   "execution_count": 25,
   "id": "551a0fde",
   "metadata": {},
   "outputs": [
    {
     "data": {
      "text/plain": [
       "array([[12, 13, 14, 15],\n",
       "       [17, 18, 19, 20],\n",
       "       [22, 23, 24, 25]])"
      ]
     },
     "execution_count": 25,
     "metadata": {},
     "output_type": "execute_result"
    }
   ],
   "source": [
    "arr[2:,1:]"
   ]
  },
  {
   "cell_type": "code",
   "execution_count": 26,
   "id": "837e4782",
   "metadata": {},
   "outputs": [
    {
     "data": {
      "text/plain": [
       "20"
      ]
     },
     "execution_count": 26,
     "metadata": {},
     "output_type": "execute_result"
    }
   ],
   "source": [
    "arr[3][4]"
   ]
  },
  {
   "cell_type": "code",
   "execution_count": 33,
   "id": "14ab3f76",
   "metadata": {},
   "outputs": [
    {
     "data": {
      "text/plain": [
       "array([[ 2],\n",
       "       [ 7],\n",
       "       [12]])"
      ]
     },
     "execution_count": 33,
     "metadata": {},
     "output_type": "execute_result"
    }
   ],
   "source": [
    "arr[0:3,1].reshape(3,1)"
   ]
  },
  {
   "cell_type": "code",
   "execution_count": 34,
   "id": "e817c73e",
   "metadata": {},
   "outputs": [
    {
     "data": {
      "text/plain": [
       "array([[16, 17, 18, 19, 20],\n",
       "       [21, 22, 23, 24, 25]])"
      ]
     },
     "execution_count": 34,
     "metadata": {},
     "output_type": "execute_result"
    }
   ],
   "source": [
    "arr[3:]"
   ]
  },
  {
   "cell_type": "code",
   "execution_count": 35,
   "id": "9154bfd7",
   "metadata": {},
   "outputs": [
    {
     "data": {
      "text/plain": [
       "array([55, 60, 65, 70, 75])"
      ]
     },
     "execution_count": 35,
     "metadata": {},
     "output_type": "execute_result"
    }
   ],
   "source": [
    "arr.sum(axis=0)"
   ]
  },
  {
   "cell_type": "code",
   "execution_count": null,
   "id": "607dc8b7",
   "metadata": {},
   "outputs": [],
   "source": []
  }
 ],
 "metadata": {
  "kernelspec": {
   "display_name": "Python 3 (ipykernel)",
   "language": "python",
   "name": "python3"
  },
  "language_info": {
   "codemirror_mode": {
    "name": "ipython",
    "version": 3
   },
   "file_extension": ".py",
   "mimetype": "text/x-python",
   "name": "python",
   "nbconvert_exporter": "python",
   "pygments_lexer": "ipython3",
   "version": "3.11.4"
  }
 },
 "nbformat": 4,
 "nbformat_minor": 5
}
