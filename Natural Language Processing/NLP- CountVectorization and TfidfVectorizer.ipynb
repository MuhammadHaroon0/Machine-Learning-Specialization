{
 "cells": [
  {
   "cell_type": "code",
   "execution_count": 1,
   "id": "2f896d51",
   "metadata": {},
   "outputs": [],
   "source": [
    "import numpy as np\n",
    "import pandas as pd\n",
    "import seaborn as sns\n",
    "import matplotlib.pyplot as plt"
   ]
  },
  {
   "cell_type": "code",
   "execution_count": 21,
   "id": "a4373f22",
   "metadata": {},
   "outputs": [],
   "source": [
    "with open (\"D:/COURSES/Python for Machine Learning & Data Science Masterclass/1 - Introduction to Course/18-Naive-Bayes-and-NLP/One.txt\") as text:\n",
    "    str=text.read()"
   ]
  },
  {
   "cell_type": "code",
   "execution_count": 25,
   "id": "d32bb3de",
   "metadata": {},
   "outputs": [
    {
     "data": {
      "text/plain": [
       "['this',\n",
       " 'is',\n",
       " 'a',\n",
       " 'story',\n",
       " 'about',\n",
       " 'dogs',\n",
       " 'our',\n",
       " 'canine',\n",
       " 'pets',\n",
       " 'dogs',\n",
       " 'are',\n",
       " 'furry',\n",
       " 'animals']"
      ]
     },
     "execution_count": 25,
     "metadata": {},
     "output_type": "execute_result"
    }
   ],
   "source": [
    "str.lower().split()\n"
   ]
  },
  {
   "cell_type": "code",
   "execution_count": 26,
   "id": "3253c1db",
   "metadata": {},
   "outputs": [],
   "source": [
    "one_uni=set(str.lower().split()\n",
    ")"
   ]
  },
  {
   "cell_type": "code",
   "execution_count": 27,
   "id": "b0e03a16",
   "metadata": {},
   "outputs": [
    {
     "data": {
      "text/plain": [
       "{'a',\n",
       " 'about',\n",
       " 'animals',\n",
       " 'are',\n",
       " 'canine',\n",
       " 'dogs',\n",
       " 'furry',\n",
       " 'is',\n",
       " 'our',\n",
       " 'pets',\n",
       " 'story',\n",
       " 'this'}"
      ]
     },
     "execution_count": 27,
     "metadata": {},
     "output_type": "execute_result"
    }
   ],
   "source": [
    "one_uni"
   ]
  },
  {
   "cell_type": "code",
   "execution_count": 28,
   "id": "794e79f8",
   "metadata": {},
   "outputs": [],
   "source": [
    "with open (\"D:/COURSES/Python for Machine Learning & Data Science Masterclass/1 - Introduction to Course/18-Naive-Bayes-and-NLP/Two.txt\") as text:\n",
    "    str2=text.read()"
   ]
  },
  {
   "cell_type": "code",
   "execution_count": 40,
   "id": "665613cc",
   "metadata": {},
   "outputs": [],
   "source": [
    "two_uni=set(str2.lower().split()\n",
    ")"
   ]
  },
  {
   "cell_type": "code",
   "execution_count": 41,
   "id": "5717443c",
   "metadata": {},
   "outputs": [],
   "source": [
    "total_uni=set()"
   ]
  },
  {
   "cell_type": "code",
   "execution_count": 42,
   "id": "d3e74aa9",
   "metadata": {},
   "outputs": [],
   "source": [
    "total_uni.update(one_uni)"
   ]
  },
  {
   "cell_type": "code",
   "execution_count": 43,
   "id": "96923324",
   "metadata": {},
   "outputs": [],
   "source": [
    "total_uni.update(two_uni)"
   ]
  },
  {
   "cell_type": "code",
   "execution_count": 44,
   "id": "64c8518b",
   "metadata": {},
   "outputs": [
    {
     "data": {
      "text/plain": [
       "{'a',\n",
       " 'about',\n",
       " 'animals',\n",
       " 'are',\n",
       " 'canine',\n",
       " 'catching',\n",
       " 'dogs',\n",
       " 'fun',\n",
       " 'furry',\n",
       " 'is',\n",
       " 'our',\n",
       " 'pets',\n",
       " 'popular',\n",
       " 'sport',\n",
       " 'story',\n",
       " 'surfing',\n",
       " 'this',\n",
       " 'water',\n",
       " 'waves'}"
      ]
     },
     "execution_count": 44,
     "metadata": {},
     "output_type": "execute_result"
    }
   ],
   "source": [
    "total_uni"
   ]
  },
  {
   "cell_type": "code",
   "execution_count": 46,
   "id": "211dc2ac",
   "metadata": {},
   "outputs": [],
   "source": [
    "uni_elems=dict()"
   ]
  },
  {
   "cell_type": "code",
   "execution_count": 47,
   "id": "0676abae",
   "metadata": {},
   "outputs": [],
   "source": [
    "i=0\n",
    "\n",
    "for word in total_uni:\n",
    "    uni_elems[word]=i\n",
    "    i=i+1"
   ]
  },
  {
   "cell_type": "code",
   "execution_count": 48,
   "id": "e3b5f5e6",
   "metadata": {},
   "outputs": [
    {
     "data": {
      "text/plain": [
       "{'are': 0,\n",
       " 'popular': 1,\n",
       " 'a': 2,\n",
       " 'waves': 3,\n",
       " 'dogs': 4,\n",
       " 'pets': 5,\n",
       " 'surfing': 6,\n",
       " 'catching': 7,\n",
       " 'animals': 8,\n",
       " 'is': 9,\n",
       " 'fun': 10,\n",
       " 'canine': 11,\n",
       " 'sport': 12,\n",
       " 'story': 13,\n",
       " 'this': 14,\n",
       " 'water': 15,\n",
       " 'about': 16,\n",
       " 'furry': 17,\n",
       " 'our': 18}"
      ]
     },
     "execution_count": 48,
     "metadata": {},
     "output_type": "execute_result"
    }
   ],
   "source": [
    "uni_elems"
   ]
  },
  {
   "cell_type": "code",
   "execution_count": 61,
   "id": "937af057",
   "metadata": {},
   "outputs": [
    {
     "data": {
      "text/plain": [
       "['this',\n",
       " 'is',\n",
       " 'a',\n",
       " 'story',\n",
       " 'about',\n",
       " 'dogs',\n",
       " 'our',\n",
       " 'canine',\n",
       " 'pets',\n",
       " 'dogs',\n",
       " 'are',\n",
       " 'furry',\n",
       " 'animals']"
      ]
     },
     "execution_count": 61,
     "metadata": {},
     "output_type": "execute_result"
    }
   ],
   "source": [
    "with open(\"D:/COURSES/Python for Machine Learning & Data Science Masterclass/1 - Introduction to Course/18-Naive-Bayes-and-NLP/One.txt\") as text:\n",
    "    str=text.read().lower().split()\n",
    "# one_occur=uni_elems[word].\n",
    "str"
   ]
  },
  {
   "cell_type": "code",
   "execution_count": 62,
   "id": "c919bdad",
   "metadata": {},
   "outputs": [],
   "source": [
    "one_occur=[0]*len(total_uni)\n",
    "two_occur=[0]*len(total_uni)\n",
    "all_words=['']*len(total_uni)"
   ]
  },
  {
   "cell_type": "code",
   "execution_count": 63,
   "id": "244b72a2",
   "metadata": {},
   "outputs": [],
   "source": [
    "for word in str:\n",
    "    one_occur[uni_elems[word]]+=1"
   ]
  },
  {
   "cell_type": "code",
   "execution_count": 64,
   "id": "19a6b9b3",
   "metadata": {},
   "outputs": [
    {
     "data": {
      "text/plain": [
       "[1, 0, 1, 0, 2, 1, 0, 0, 1, 1, 0, 1, 0, 1, 1, 0, 1, 1, 1]"
      ]
     },
     "execution_count": 64,
     "metadata": {},
     "output_type": "execute_result"
    }
   ],
   "source": [
    "one_occur"
   ]
  },
  {
   "cell_type": "code",
   "execution_count": 65,
   "id": "dedf3869",
   "metadata": {},
   "outputs": [],
   "source": [
    "with open(\"D:/COURSES/Python for Machine Learning & Data Science Masterclass/1 - Introduction to Course/18-Naive-Bayes-and-NLP/Two.txt\") as text:\n",
    "    str2=text.read().lower().split()"
   ]
  },
  {
   "cell_type": "code",
   "execution_count": 66,
   "id": "b99f8d9d",
   "metadata": {},
   "outputs": [],
   "source": [
    "for word in str2:\n",
    "    two_occur[uni_elems[word]]+=1"
   ]
  },
  {
   "cell_type": "code",
   "execution_count": 67,
   "id": "4f9aa973",
   "metadata": {},
   "outputs": [
    {
     "data": {
      "text/plain": [
       "[0, 1, 1, 1, 0, 0, 2, 1, 0, 3, 1, 0, 1, 1, 1, 1, 1, 0, 0]"
      ]
     },
     "execution_count": 67,
     "metadata": {},
     "output_type": "execute_result"
    }
   ],
   "source": [
    "two_occur"
   ]
  },
  {
   "cell_type": "code",
   "execution_count": 68,
   "id": "00069f8e",
   "metadata": {},
   "outputs": [
    {
     "data": {
      "text/html": [
       "<div>\n",
       "<style scoped>\n",
       "    .dataframe tbody tr th:only-of-type {\n",
       "        vertical-align: middle;\n",
       "    }\n",
       "\n",
       "    .dataframe tbody tr th {\n",
       "        vertical-align: top;\n",
       "    }\n",
       "\n",
       "    .dataframe thead th {\n",
       "        text-align: right;\n",
       "    }\n",
       "</style>\n",
       "<table border=\"1\" class=\"dataframe\">\n",
       "  <thead>\n",
       "    <tr style=\"text-align: right;\">\n",
       "      <th></th>\n",
       "      <th>are</th>\n",
       "      <th>popular</th>\n",
       "      <th>a</th>\n",
       "      <th>waves</th>\n",
       "      <th>dogs</th>\n",
       "      <th>pets</th>\n",
       "      <th>surfing</th>\n",
       "      <th>catching</th>\n",
       "      <th>animals</th>\n",
       "      <th>is</th>\n",
       "      <th>fun</th>\n",
       "      <th>canine</th>\n",
       "      <th>sport</th>\n",
       "      <th>story</th>\n",
       "      <th>this</th>\n",
       "      <th>water</th>\n",
       "      <th>about</th>\n",
       "      <th>furry</th>\n",
       "      <th>our</th>\n",
       "    </tr>\n",
       "  </thead>\n",
       "  <tbody>\n",
       "    <tr>\n",
       "      <th>0</th>\n",
       "      <td>1</td>\n",
       "      <td>0</td>\n",
       "      <td>1</td>\n",
       "      <td>0</td>\n",
       "      <td>2</td>\n",
       "      <td>1</td>\n",
       "      <td>0</td>\n",
       "      <td>0</td>\n",
       "      <td>1</td>\n",
       "      <td>1</td>\n",
       "      <td>0</td>\n",
       "      <td>1</td>\n",
       "      <td>0</td>\n",
       "      <td>1</td>\n",
       "      <td>1</td>\n",
       "      <td>0</td>\n",
       "      <td>1</td>\n",
       "      <td>1</td>\n",
       "      <td>1</td>\n",
       "    </tr>\n",
       "    <tr>\n",
       "      <th>1</th>\n",
       "      <td>0</td>\n",
       "      <td>1</td>\n",
       "      <td>1</td>\n",
       "      <td>1</td>\n",
       "      <td>0</td>\n",
       "      <td>0</td>\n",
       "      <td>2</td>\n",
       "      <td>1</td>\n",
       "      <td>0</td>\n",
       "      <td>3</td>\n",
       "      <td>1</td>\n",
       "      <td>0</td>\n",
       "      <td>1</td>\n",
       "      <td>1</td>\n",
       "      <td>1</td>\n",
       "      <td>1</td>\n",
       "      <td>1</td>\n",
       "      <td>0</td>\n",
       "      <td>0</td>\n",
       "    </tr>\n",
       "  </tbody>\n",
       "</table>\n",
       "</div>"
      ],
      "text/plain": [
       "   are  popular  a  waves  dogs  pets  surfing  catching  animals  is  fun  \\\n",
       "0    1        0  1      0     2     1        0         0        1   1    0   \n",
       "1    0        1  1      1     0     0        2         1        0   3    1   \n",
       "\n",
       "   canine  sport  story  this  water  about  furry  our  \n",
       "0       1      0      1     1      0      1      1    1  \n",
       "1       0      1      1     1      1      1      0    0  "
      ]
     },
     "execution_count": 68,
     "metadata": {},
     "output_type": "execute_result"
    }
   ],
   "source": [
    "pd.DataFrame(data=[one_occur,two_occur],columns=uni_elems)"
   ]
  },
  {
   "cell_type": "code",
   "execution_count": 70,
   "id": "e17d19ce",
   "metadata": {},
   "outputs": [
    {
     "data": {
      "text/plain": [
       "4"
      ]
     },
     "execution_count": 70,
     "metadata": {},
     "output_type": "execute_result"
    }
   ],
   "source": [
    "uni_elems[\"dogs\"]"
   ]
  },
  {
   "cell_type": "code",
   "execution_count": 71,
   "id": "8f84f8c1",
   "metadata": {},
   "outputs": [],
   "source": [
    "text=[\"This is a line\",\n",
    "     \"This is another line\",\n",
    "     \"Completely different line\"]"
   ]
  },
  {
   "cell_type": "code",
   "execution_count": 78,
   "id": "693c50ec",
   "metadata": {},
   "outputs": [],
   "source": [
    "from sklearn.feature_extraction.text import CountVectorizer,TfidfTransformer,TfidfVectorizer"
   ]
  },
  {
   "cell_type": "code",
   "execution_count": 95,
   "id": "a8d211ba",
   "metadata": {},
   "outputs": [],
   "source": [
    "# cv=CountVectorizer(stop_words='english') \n",
    "cv=CountVectorizer() \n",
    "# help(cv)"
   ]
  },
  {
   "cell_type": "code",
   "execution_count": 96,
   "id": "4967ed42",
   "metadata": {},
   "outputs": [],
   "source": [
    "sparse_matrix=cv.fit_transform(text)"
   ]
  },
  {
   "cell_type": "code",
   "execution_count": 97,
   "id": "b0e0ce85",
   "metadata": {},
   "outputs": [
    {
     "data": {
      "text/plain": [
       "matrix([[0, 0, 0, 1, 1, 1],\n",
       "        [1, 0, 0, 1, 1, 1],\n",
       "        [0, 1, 1, 0, 1, 0]], dtype=int64)"
      ]
     },
     "execution_count": 97,
     "metadata": {},
     "output_type": "execute_result"
    }
   ],
   "source": [
    "sparse_matrix.todense()"
   ]
  },
  {
   "cell_type": "code",
   "execution_count": 98,
   "id": "74d0d212",
   "metadata": {},
   "outputs": [
    {
     "data": {
      "text/plain": [
       "{'this': 5, 'is': 3, 'line': 4, 'another': 0, 'completely': 1, 'different': 2}"
      ]
     },
     "execution_count": 98,
     "metadata": {},
     "output_type": "execute_result"
    }
   ],
   "source": []
  },
  {
   "cell_type": "code",
   "execution_count": 99,
   "id": "6263fe0c",
   "metadata": {},
   "outputs": [],
   "source": [
    "tfidft=TfidfTransformer()"
   ]
  },
  {
   "cell_type": "code",
   "execution_count": 103,
   "id": "a5e90511",
   "metadata": {},
   "outputs": [],
   "source": [
    "result=tfidft.fit_transform(sparse_matrix)"
   ]
  },
  {
   "cell_type": "code",
   "execution_count": 104,
   "id": "685ac9fa",
   "metadata": {},
   "outputs": [
    {
     "data": {
      "text/plain": [
       "matrix([[0.        , 0.        , 0.        , 0.61980538, 0.48133417,\n",
       "         0.61980538],\n",
       "        [0.63174505, 0.        , 0.        , 0.4804584 , 0.37311881,\n",
       "         0.4804584 ],\n",
       "        [0.        , 0.65249088, 0.65249088, 0.        , 0.38537163,\n",
       "         0.        ]])"
      ]
     },
     "execution_count": 104,
     "metadata": {},
     "output_type": "execute_result"
    }
   ],
   "source": [
    "result.todense()"
   ]
  },
  {
   "cell_type": "code",
   "execution_count": 106,
   "id": "5252d977",
   "metadata": {},
   "outputs": [],
   "source": [
    "tfidfv=TfidfVectorizer()"
   ]
  },
  {
   "cell_type": "code",
   "execution_count": 109,
   "id": "0632352a",
   "metadata": {},
   "outputs": [
    {
     "data": {
      "text/plain": [
       "matrix([[0.        , 0.        , 0.        , 0.61980538, 0.48133417,\n",
       "         0.61980538],\n",
       "        [0.63174505, 0.        , 0.        , 0.4804584 , 0.37311881,\n",
       "         0.4804584 ],\n",
       "        [0.        , 0.65249088, 0.65249088, 0.        , 0.38537163,\n",
       "         0.        ]])"
      ]
     },
     "execution_count": 109,
     "metadata": {},
     "output_type": "execute_result"
    }
   ],
   "source": [
    "tfidfv.fit_transform(text).todense()"
   ]
  },
  {
   "cell_type": "code",
   "execution_count": null,
   "id": "eab64ceb",
   "metadata": {},
   "outputs": [],
   "source": []
  }
 ],
 "metadata": {
  "kernelspec": {
   "display_name": "Python 3 (ipykernel)",
   "language": "python",
   "name": "python3"
  },
  "language_info": {
   "codemirror_mode": {
    "name": "ipython",
    "version": 3
   },
   "file_extension": ".py",
   "mimetype": "text/x-python",
   "name": "python",
   "nbconvert_exporter": "python",
   "pygments_lexer": "ipython3",
   "version": "3.11.4"
  }
 },
 "nbformat": 4,
 "nbformat_minor": 5
}
